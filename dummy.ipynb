{
 "cells": [
  {
   "cell_type": "code",
   "execution_count": null,
   "id": "44da9729",
   "metadata": {},
   "outputs": [],
   "source": [
    "from langchain_community.document_loaders import RecursiveUrlLoader\n",
    "from tqdm import tqdm\n",
    "import urllib\n",
    "import requests\n",
    "import re\n",
    "from bs4 import BeautifulSoup"
   ]
  },
  {
   "cell_type": "code",
   "execution_count": 29,
   "id": "5eb94e37",
   "metadata": {},
   "outputs": [],
   "source": [
    "parent_url = \"https://www.svnit.ac.in/web/department/computer/\"\n",
    "parent_text = \"CSE-Department\"\n",
    "# parent_url = \"https://www.svnit.ac.in/\"\n",
    "max_depth = 1000"
   ]
  },
  {
   "cell_type": "code",
   "execution_count": 30,
   "id": "c4b9e781",
   "metadata": {},
   "outputs": [],
   "source": [
    "\n",
    "\n",
    "def bs4_extractor(html: str) -> str:\n",
    "    soup = BeautifulSoup(html, \"lxml\")\n",
    "    return re.sub(r\"\\n\\n+\", \"\\n\\n\", soup.text).strip()"
   ]
  },
  {
   "cell_type": "code",
   "execution_count": null,
   "id": "f1af0607",
   "metadata": {},
   "outputs": [
    {
     "name": "stderr",
     "output_type": "stream",
     "text": [
      "1it [00:00,  1.18it/s]"
     ]
    },
    {
     "name": "stdout",
     "output_type": "stream",
     "text": [
      "[HTML] https://www.svnit.ac.in/web/department/computer/\n"
     ]
    },
    {
     "name": "stderr",
     "output_type": "stream",
     "text": [
      "2it [00:01,  1.29it/s]"
     ]
    },
    {
     "name": "stdout",
     "output_type": "stream",
     "text": [
      "[HTML] https://www.svnit.ac.in/web/department/computer/newsletter_computer.php\n"
     ]
    },
    {
     "name": "stderr",
     "output_type": "stream",
     "text": [
      "3it [00:02,  1.02s/it]"
     ]
    },
    {
     "name": "stdout",
     "output_type": "stream",
     "text": [
      "[PDF]  https://www.svnit.ac.in/web/department/computer/pdf/CoED%20Newsletter%20June%202020.pdf\n"
     ]
    },
    {
     "name": "stderr",
     "output_type": "stream",
     "text": [
      "4it [00:04,  1.12s/it]"
     ]
    },
    {
     "name": "stdout",
     "output_type": "stream",
     "text": [
      "[PDF]  https://www.svnit.ac.in/web/department/computer/pdf/COED-Newletter-October-2020-Issue-2.pdf\n"
     ]
    },
    {
     "name": "stderr",
     "output_type": "stream",
     "text": [
      "5it [00:05,  1.14s/it]"
     ]
    },
    {
     "name": "stdout",
     "output_type": "stream",
     "text": [
      "[PDF]  https://www.svnit.ac.in/web/department/computer/pdf/Newslatter%20Issue%204.pdf\n"
     ]
    },
    {
     "name": "stderr",
     "output_type": "stream",
     "text": [
      "6it [00:06,  1.04s/it]"
     ]
    },
    {
     "name": "stdout",
     "output_type": "stream",
     "text": [
      "[HTML] https://www.svnit.ac.in/web/department/computer/index.php\n"
     ]
    },
    {
     "name": "stderr",
     "output_type": "stream",
     "text": [
      "7it [00:06,  1.09it/s]"
     ]
    },
    {
     "name": "stdout",
     "output_type": "stream",
     "text": [
      "[HTML] https://www.svnit.ac.in/web/department/computer/contact%20us.php\n"
     ]
    },
    {
     "name": "stderr",
     "output_type": "stream",
     "text": [
      "8it [00:07,  1.15it/s]"
     ]
    },
    {
     "name": "stdout",
     "output_type": "stream",
     "text": [
      "[HTML] https://www.svnit.ac.in/web/department/computer/rd-projects.php\n"
     ]
    },
    {
     "name": "stderr",
     "output_type": "stream",
     "text": [
      "9it [00:08,  1.21it/s]"
     ]
    },
    {
     "name": "stdout",
     "output_type": "stream",
     "text": [
      "[HTML] https://www.svnit.ac.in/web/department/computer/curriculum-btech.php\n"
     ]
    },
    {
     "name": "stderr",
     "output_type": "stream",
     "text": [
      "10it [00:09,  1.27it/s]"
     ]
    },
    {
     "name": "stdout",
     "output_type": "stream",
     "text": [
      "[HTML] https://www.svnit.ac.in/web/department/computer/CO307.php\n"
     ]
    },
    {
     "name": "stderr",
     "output_type": "stream",
     "text": [
      "11it [00:09,  1.32it/s]"
     ]
    },
    {
     "name": "stdout",
     "output_type": "stream",
     "text": [
      "[HTML] https://www.svnit.ac.in/web/department/computer/patent-detail.php\n"
     ]
    },
    {
     "name": "stderr",
     "output_type": "stream",
     "text": [
      "12it [00:10,  1.27it/s]"
     ]
    },
    {
     "name": "stdout",
     "output_type": "stream",
     "text": [
      "[HTML] https://www.svnit.ac.in/web/department/computer/faculty-achievement.php\n"
     ]
    },
    {
     "name": "stderr",
     "output_type": "stream",
     "text": [
      "13it [00:11,  1.33it/s]"
     ]
    },
    {
     "name": "stdout",
     "output_type": "stream",
     "text": [
      "[HTML] https://www.svnit.ac.in/web/department/computer/hod-message.php\n"
     ]
    },
    {
     "name": "stderr",
     "output_type": "stream",
     "text": [
      "14it [00:11,  1.34it/s]"
     ]
    },
    {
     "name": "stdout",
     "output_type": "stream",
     "text": [
      "[HTML] https://www.svnit.ac.in/web/department/computer/student-achievement.php\n"
     ]
    },
    {
     "name": "stderr",
     "output_type": "stream",
     "text": [
      "15it [00:12,  1.37it/s]"
     ]
    },
    {
     "name": "stdout",
     "output_type": "stream",
     "text": [
      "[HTML] https://www.svnit.ac.in/web/department/computer/curriculum-mtech.php\n"
     ]
    },
    {
     "name": "stderr",
     "output_type": "stream",
     "text": [
      "17it [00:15,  1.10s/it]"
     ]
    },
    {
     "name": "stdout",
     "output_type": "stream",
     "text": [
      "[PDF]  https://www.svnit.ac.in/web/department/computer/pdf/mtech/MTech%20CSE%20ISP%20Curriculum%20Syllabus%2021-6-2024%20%281%29.pdf\n"
     ]
    },
    {
     "name": "stderr",
     "output_type": "stream",
     "text": [
      "Unable to load from https://www.svnit.ac.in/web/department/computer/pdf/mtech/Website _ M Tech Syllabus CTM 29052020.pdf. Received error Received HTTP status 404 of type ValueError\n",
      "18it [00:17,  1.20s/it]"
     ]
    },
    {
     "name": "stdout",
     "output_type": "stream",
     "text": [
      "[PDF]  https://www.svnit.ac.in/web/department/computer/pdf/mtech/MTechCSE_ISP_SVNIT.pdf\n"
     ]
    },
    {
     "name": "stderr",
     "output_type": "stream",
     "text": [
      "19it [00:18,  1.32s/it]"
     ]
    },
    {
     "name": "stdout",
     "output_type": "stream",
     "text": [
      "[PDF]  https://www.svnit.ac.in/web/department/computer/pdf/mtech/MTech_CSE_Curriculum_2023.pdf\n"
     ]
    },
    {
     "name": "stderr",
     "output_type": "stream",
     "text": [
      "20it [00:20,  1.37s/it]"
     ]
    },
    {
     "name": "stdout",
     "output_type": "stream",
     "text": [
      "[PDF]  https://www.svnit.ac.in/web/department/computer/pdf/mtech/MTech%20CSE%20Curriculum%20Syllabus%2021-6-2024.pdf\n"
     ]
    },
    {
     "name": "stderr",
     "output_type": "stream",
     "text": [
      "21it [00:21,  1.30s/it]"
     ]
    },
    {
     "name": "stdout",
     "output_type": "stream",
     "text": [
      "[PDF]  https://www.svnit.ac.in/web/department/computer/pdf/mtech/MTechCSE_DS_SVNIT.pdf\n"
     ]
    },
    {
     "name": "stderr",
     "output_type": "stream",
     "text": [
      "Unable to load from https://www.svnit.ac.in/web/department/computer/index.html. Received error Received HTTP status 404 of type ValueError\n",
      "22it [00:22,  1.25s/it]"
     ]
    },
    {
     "name": "stdout",
     "output_type": "stream",
     "text": [
      "[PDF]  https://www.svnit.ac.in/web/department/computer/pdf/Point%205%20Faculty%20Information%20SAR%20for%20NBA%20CAY%2024-25%20-%20CAYm1%20and%20CAYm2.pdf\n"
     ]
    },
    {
     "name": "stderr",
     "output_type": "stream",
     "text": [
      "23it [00:23,  1.10s/it]"
     ]
    },
    {
     "name": "stdout",
     "output_type": "stream",
     "text": [
      "[HTML] https://www.svnit.ac.in/web/department/computer/conference-organized.php\n"
     ]
    },
    {
     "name": "stderr",
     "output_type": "stream",
     "text": [
      "24it [00:23,  1.04it/s]"
     ]
    },
    {
     "name": "stdout",
     "output_type": "stream",
     "text": [
      "[HTML] https://www.svnit.ac.in/web/department/computer/academic-phd.php\n"
     ]
    },
    {
     "name": "stderr",
     "output_type": "stream",
     "text": [
      "25it [00:24,  1.12it/s]"
     ]
    },
    {
     "name": "stdout",
     "output_type": "stream",
     "text": [
      "[HTML] https://www.svnit.ac.in/web/department/computer/consultancy-work.php\n"
     ]
    },
    {
     "name": "stderr",
     "output_type": "stream",
     "text": [
      "26it [00:25,  1.21it/s]"
     ]
    },
    {
     "name": "stdout",
     "output_type": "stream",
     "text": [
      "[HTML] https://www.svnit.ac.in/web/department/computer/laboratories.php\n"
     ]
    },
    {
     "name": "stderr",
     "output_type": "stream",
     "text": [
      "27it [00:25,  1.32it/s]"
     ]
    },
    {
     "name": "stdout",
     "output_type": "stream",
     "text": [
      "[HTML] https://www.svnit.ac.in/web/department/computer/6gv-lab.html\n"
     ]
    },
    {
     "name": "stderr",
     "output_type": "stream",
     "text": [
      "28it [00:26,  1.43it/s]"
     ]
    },
    {
     "name": "stdout",
     "output_type": "stream",
     "text": [
      "[HTML] https://www.svnit.ac.in/web/department/computer/9data-science-lab.html\n"
     ]
    },
    {
     "name": "stderr",
     "output_type": "stream",
     "text": [
      "29it [00:26,  1.53it/s]"
     ]
    },
    {
     "name": "stdout",
     "output_type": "stream",
     "text": [
      "[HTML] https://www.svnit.ac.in/web/department/computer/11btech-project-lab.html\n"
     ]
    },
    {
     "name": "stderr",
     "output_type": "stream",
     "text": [
      "30it [00:27,  1.62it/s]"
     ]
    },
    {
     "name": "stdout",
     "output_type": "stream",
     "text": [
      "[HTML] https://www.svnit.ac.in/web/department/computer/MeitY%20Drone%20Project/\n"
     ]
    },
    {
     "name": "stderr",
     "output_type": "stream",
     "text": [
      "31it [00:27,  1.70it/s]"
     ]
    },
    {
     "name": "stdout",
     "output_type": "stream",
     "text": [
      "[HTML] https://www.svnit.ac.in/web/department/computer/MeitY%20Drone%20Project/Lab%20Infrastructure.html\n"
     ]
    },
    {
     "name": "stderr",
     "output_type": "stream",
     "text": [
      "32it [00:28,  1.75it/s]"
     ]
    },
    {
     "name": "stdout",
     "output_type": "stream",
     "text": [
      "[HTML] https://www.svnit.ac.in/web/department/computer/MeitY%20Drone%20Project/Boot%20Camps.html\n"
     ]
    },
    {
     "name": "stderr",
     "output_type": "stream",
     "text": [
      "33it [00:28,  1.82it/s]"
     ]
    },
    {
     "name": "stdout",
     "output_type": "stream",
     "text": [
      "[HTML] https://www.svnit.ac.in/web/department/computer/MeitY%20Drone%20Project/index.html\n"
     ]
    },
    {
     "name": "stderr",
     "output_type": "stream",
     "text": [
      "34it [00:29,  1.83it/s]"
     ]
    },
    {
     "name": "stdout",
     "output_type": "stream",
     "text": [
      "[HTML] https://www.svnit.ac.in/web/department/computer/MeitY%20Drone%20Project/Courses.html\n"
     ]
    },
    {
     "name": "stderr",
     "output_type": "stream",
     "text": [
      "Unable to load from https://www.svnit.ac.in/web/department/computer/MeitY Drone Project/Lab infrastructure.html. Received error Received HTTP status 404 of type ValueError\n",
      "35it [00:30,  1.60it/s]"
     ]
    },
    {
     "name": "stdout",
     "output_type": "stream",
     "text": [
      "[HTML] https://www.svnit.ac.in/web/department/computer/MeitY%20Drone%20Project/About%20Us.html\n"
     ]
    },
    {
     "name": "stderr",
     "output_type": "stream",
     "text": [
      "Unable to load from https://www.svnit.ac.in/web/department/computer/MeitY Drone Project/mailto. Received error Received HTTP status 404 of type ValueError\n",
      "36it [00:31,  1.51it/s]"
     ]
    },
    {
     "name": "stdout",
     "output_type": "stream",
     "text": [
      "[HTML] https://www.svnit.ac.in/web/department/computer/MeitY%20Drone%20Project/Bootcamp2.html\n"
     ]
    },
    {
     "name": "stderr",
     "output_type": "stream",
     "text": [
      "37it [00:31,  1.65it/s]"
     ]
    },
    {
     "name": "stdout",
     "output_type": "stream",
     "text": [
      "[HTML] https://www.svnit.ac.in/web/department/computer/MeitY%20Drone%20Project/Bootcamp4.html\n"
     ]
    },
    {
     "name": "stderr",
     "output_type": "stream",
     "text": [
      "38it [00:32,  1.73it/s]"
     ]
    },
    {
     "name": "stdout",
     "output_type": "stream",
     "text": [
      "[HTML] https://www.svnit.ac.in/web/department/computer/MeitY%20Drone%20Project/Bootcamp1.html\n"
     ]
    },
    {
     "name": "stderr",
     "output_type": "stream",
     "text": [
      "39it [00:32,  1.82it/s]"
     ]
    },
    {
     "name": "stdout",
     "output_type": "stream",
     "text": [
      "[HTML] https://www.svnit.ac.in/web/department/computer/MeitY%20Drone%20Project/Bootcamp3.html\n"
     ]
    },
    {
     "name": "stderr",
     "output_type": "stream",
     "text": [
      "40it [00:33,  1.85it/s]"
     ]
    },
    {
     "name": "stdout",
     "output_type": "stream",
     "text": [
      "[HTML] https://www.svnit.ac.in/web/department/computer/8micro-processor-lab.html\n"
     ]
    },
    {
     "name": "stderr",
     "output_type": "stream",
     "text": [
      "Unable to load from https://www.svnit.ac.in/web/department/computer/research-project.php. Received error Received HTTP status 404 of type ValueError\n",
      "41it [00:33,  1.59it/s]"
     ]
    },
    {
     "name": "stdout",
     "output_type": "stream",
     "text": [
      "[HTML] https://www.svnit.ac.in/web/department/computer/14forensics-lab.html\n"
     ]
    },
    {
     "name": "stderr",
     "output_type": "stream",
     "text": [
      "42it [00:34,  1.63it/s]"
     ]
    },
    {
     "name": "stdout",
     "output_type": "stream",
     "text": [
      "[HTML] https://www.svnit.ac.in/web/department/computer/7cismr-lab.html\n"
     ]
    },
    {
     "name": "stderr",
     "output_type": "stream",
     "text": [
      "43it [00:35,  1.36it/s]"
     ]
    },
    {
     "name": "stdout",
     "output_type": "stream",
     "text": [
      "[PDF]  https://www.svnit.ac.in/web/department/computer/pdf/STTP-FDP-WorkshopsDoCSE_June2005Onwards.pdf\n"
     ]
    },
    {
     "name": "stderr",
     "output_type": "stream",
     "text": [
      "44it [00:36,  1.41it/s]"
     ]
    },
    {
     "name": "stdout",
     "output_type": "stream",
     "text": [
      "[HTML] https://www.svnit.ac.in/web/department/computer/12mtech-project-lab.html\n"
     ]
    },
    {
     "name": "stderr",
     "output_type": "stream",
     "text": [
      "45it [00:36,  1.50it/s]"
     ]
    },
    {
     "name": "stdout",
     "output_type": "stream",
     "text": [
      "[HTML] https://www.svnit.ac.in/web/department/computer/2com-lab-2.html\n"
     ]
    },
    {
     "name": "stderr",
     "output_type": "stream",
     "text": [
      "46it [00:37,  1.59it/s]"
     ]
    },
    {
     "name": "stdout",
     "output_type": "stream",
     "text": [
      "[HTML] https://www.svnit.ac.in/web/department/computer/10ns-lab.html\n"
     ]
    },
    {
     "name": "stderr",
     "output_type": "stream",
     "text": [
      "47it [00:37,  1.64it/s]"
     ]
    },
    {
     "name": "stdout",
     "output_type": "stream",
     "text": [
      "[HTML] https://www.svnit.ac.in/web/department/computer/5hpc-lab.html\n"
     ]
    },
    {
     "name": "stderr",
     "output_type": "stream",
     "text": [
      "48it [00:38,  1.57it/s]"
     ]
    },
    {
     "name": "stdout",
     "output_type": "stream",
     "text": [
      "[HTML] https://www.svnit.ac.in/web/department/computer/faculty.php\n"
     ]
    },
    {
     "name": "stderr",
     "output_type": "stream",
     "text": [
      "49it [00:39,  1.50it/s]"
     ]
    },
    {
     "name": "stdout",
     "output_type": "stream",
     "text": [
      "[HTML] https://www.svnit.ac.in/web/department/computer/workshop-detail.php\n"
     ]
    },
    {
     "name": "stderr",
     "output_type": "stream",
     "text": [
      "50it [00:40,  1.36it/s]"
     ]
    },
    {
     "name": "stdout",
     "output_type": "stream",
     "text": [
      "[PDF]  https://www.svnit.ac.in/web/department/computer/pdf/Point%204%20Placement%20Higher%20Studies%20Data%20for%20NBA%20-CAYm1%2023-24%20CAYm2%20CAYm3.pdf\n"
     ]
    },
    {
     "name": "stderr",
     "output_type": "stream",
     "text": [
      "51it [00:40,  1.34it/s]"
     ]
    },
    {
     "name": "stdout",
     "output_type": "stream",
     "text": [
      "[HTML] https://www.svnit.ac.in/web/department/computer/academic-mtech.php\n"
     ]
    },
    {
     "name": "stderr",
     "output_type": "stream",
     "text": [
      "52it [00:41,  1.35it/s]"
     ]
    },
    {
     "name": "stdout",
     "output_type": "stream",
     "text": [
      "[HTML] https://www.svnit.ac.in/web/department/computer/puc.php\n"
     ]
    },
    {
     "name": "stderr",
     "output_type": "stream",
     "text": [
      "53it [00:42,  1.42it/s]"
     ]
    },
    {
     "name": "stdout",
     "output_type": "stream",
     "text": [
      "[HTML] https://www.svnit.ac.in/web/department/computer/vision-mission.php\n"
     ]
    },
    {
     "name": "stderr",
     "output_type": "stream",
     "text": [
      "54it [00:43,  1.19it/s]"
     ]
    },
    {
     "name": "stdout",
     "output_type": "stream",
     "text": [
      "[PDF]  https://www.svnit.ac.in/web/department/computer/pdf/Roll%20List%20B.Tech.pdf\n"
     ]
    },
    {
     "name": "stderr",
     "output_type": "stream",
     "text": [
      "55it [00:44,  1.11it/s]"
     ]
    },
    {
     "name": "stdout",
     "output_type": "stream",
     "text": [
      "[HTML] https://www.svnit.ac.in/web/department/computer/curriculum-phd.php\n"
     ]
    },
    {
     "name": "stderr",
     "output_type": "stream",
     "text": [
      "56it [00:46,  1.16s/it]"
     ]
    },
    {
     "name": "stdout",
     "output_type": "stream",
     "text": [
      "[PDF]  https://www.svnit.ac.in/web/department/computer/pdf/curriculum/phd/DoCSE_PhD%20Comphrensive%20Examination%20Syllabus%20August-2023.pdf\n"
     ]
    },
    {
     "name": "stderr",
     "output_type": "stream",
     "text": [
      "57it [00:46,  1.02s/it]"
     ]
    },
    {
     "name": "stdout",
     "output_type": "stream",
     "text": [
      "[PDF]  https://www.svnit.ac.in/web/department/computer/pdf/curriculum/phd/Comprehensive-Syllabus-Research-area-June-2021.pdf\n"
     ]
    },
    {
     "name": "stderr",
     "output_type": "stream",
     "text": [
      "58it [00:47,  1.05it/s]"
     ]
    },
    {
     "name": "stdout",
     "output_type": "stream",
     "text": [
      "[PDF]  https://www.svnit.ac.in/web/department/computer/pdf/curriculum/phd/Comprehensive-Syllabus-Research-area-July-2020.pdf\n"
     ]
    },
    {
     "name": "stderr",
     "output_type": "stream",
     "text": [
      "59it [00:48,  1.18it/s]"
     ]
    },
    {
     "name": "stdout",
     "output_type": "stream",
     "text": [
      "[PDF]  https://www.svnit.ac.in/web/department/computer/pdf/curriculum/phd/PhD%20Comprehensive%20Exam%20-%20Syllabus%20Jan%202022.pdf\n"
     ]
    },
    {
     "name": "stderr",
     "output_type": "stream",
     "text": [
      "60it [00:49,  1.17it/s]"
     ]
    },
    {
     "name": "stdout",
     "output_type": "stream",
     "text": [
      "[PDF]  https://www.svnit.ac.in/web/department/computer/pdf/curriculum/phd/phd%20comprehensive%20exam%20%20%20syllabus-COED.pdf\n"
     ]
    },
    {
     "name": "stderr",
     "output_type": "stream",
     "text": [
      "61it [00:49,  1.25it/s]"
     ]
    },
    {
     "name": "stdout",
     "output_type": "stream",
     "text": [
      "[PDF]  https://www.svnit.ac.in/web/department/computer/pdf/curriculum/phd/Comprehensive-Syllabus-Research-area-Oct-2020.pdf\n"
     ]
    },
    {
     "name": "stderr",
     "output_type": "stream",
     "text": [
      "62it [00:50,  1.25it/s]"
     ]
    },
    {
     "name": "stdout",
     "output_type": "stream",
     "text": [
      "[PDF]  https://www.svnit.ac.in/web/department/computer/pdf/curriculum/phd/PhD%20Comprehensive%20Exam%20July%202021-Instructions.pdf\n"
     ]
    },
    {
     "name": "stderr",
     "output_type": "stream",
     "text": [
      "63it [00:51,  1.25it/s]"
     ]
    },
    {
     "name": "stdout",
     "output_type": "stream",
     "text": [
      "[PDF]  https://www.svnit.ac.in/web/department/computer/pdf/curriculum/phd/PhD-Comprehensive-Exam-Instructions-Jan-2022.pdf\n"
     ]
    },
    {
     "name": "stderr",
     "output_type": "stream",
     "text": [
      "64it [00:52,  1.24it/s]"
     ]
    },
    {
     "name": "stdout",
     "output_type": "stream",
     "text": [
      "[PDF]  https://www.svnit.ac.in/web/department/computer/pdf/Conferences_DoCSE.pdf\n"
     ]
    },
    {
     "name": "stderr",
     "output_type": "stream",
     "text": [
      "65it [00:53,  1.25it/s]"
     ]
    },
    {
     "name": "stdout",
     "output_type": "stream",
     "text": [
      "[PDF]  https://www.svnit.ac.in/web/department/computer/pdf/ResearchProjects.pdf\n"
     ]
    },
    {
     "name": "stderr",
     "output_type": "stream",
     "text": [
      "66it [00:53,  1.29it/s]"
     ]
    },
    {
     "name": "stdout",
     "output_type": "stream",
     "text": [
      "[HTML] https://www.svnit.ac.in/web/department/computer/consultancy.php\n"
     ]
    },
    {
     "name": "stderr",
     "output_type": "stream",
     "text": [
      "67it [00:55,  1.03it/s]"
     ]
    },
    {
     "name": "stdout",
     "output_type": "stream",
     "text": [
      "[PDF]  https://www.svnit.ac.in/web/department/computer/pdf/MTech%20CSE%2018-May-2022.pdf\n"
     ]
    },
    {
     "name": "stderr",
     "output_type": "stream",
     "text": [
      "68it [00:56,  1.09it/s]"
     ]
    },
    {
     "name": "stdout",
     "output_type": "stream",
     "text": [
      "[HTML] https://www.svnit.ac.in/web/department/computer/1com-lab-1.html\n"
     ]
    },
    {
     "name": "stderr",
     "output_type": "stream",
     "text": [
      "69it [00:57,  1.04it/s]"
     ]
    },
    {
     "name": "stdout",
     "output_type": "stream",
     "text": [
      "[PDF]  https://www.svnit.ac.in/web/department/computer/pdf/mtech/MTech%20CSE%20DS%20Curriculum%20Syllabus%2021-6-2024.pdf\n"
     ]
    },
    {
     "name": "stderr",
     "output_type": "stream",
     "text": [
      "70it [00:57,  1.10it/s]"
     ]
    },
    {
     "name": "stdout",
     "output_type": "stream",
     "text": [
      "[HTML] https://www.svnit.ac.in/web/department/computer/CO316.php\n"
     ]
    },
    {
     "name": "stderr",
     "output_type": "stream",
     "text": [
      "71it [00:58,  1.17it/s]"
     ]
    },
    {
     "name": "stdout",
     "output_type": "stream",
     "text": [
      "[HTML] https://www.svnit.ac.in/web/department/computer/CO317.php\n"
     ]
    },
    {
     "name": "stderr",
     "output_type": "stream",
     "text": [
      "72it [00:59,  1.22it/s]"
     ]
    },
    {
     "name": "stdout",
     "output_type": "stream",
     "text": [
      "[HTML] https://www.svnit.ac.in/web/department/computer/CO312.php\n"
     ]
    },
    {
     "name": "stderr",
     "output_type": "stream",
     "text": [
      "73it [01:00,  1.24it/s]"
     ]
    },
    {
     "name": "stdout",
     "output_type": "stream",
     "text": [
      "[HTML] https://www.svnit.ac.in/web/department/computer/EC208.php\n"
     ]
    },
    {
     "name": "stderr",
     "output_type": "stream",
     "text": [
      "74it [01:00,  1.25it/s]"
     ]
    },
    {
     "name": "stdout",
     "output_type": "stream",
     "text": [
      "[HTML] https://www.svnit.ac.in/web/department/computer/CO302.php\n"
     ]
    },
    {
     "name": "stderr",
     "output_type": "stream",
     "text": [
      "75it [01:01,  1.31it/s]"
     ]
    },
    {
     "name": "stdout",
     "output_type": "stream",
     "text": [
      "[HTML] https://www.svnit.ac.in/web/department/computer/CO419.php\n"
     ]
    },
    {
     "name": "stderr",
     "output_type": "stream",
     "text": [
      "Unable to load from https://www.svnit.ac.in/web/department/computer/btech_1.php. Received error Received HTTP status 404 of type ValueError\n",
      "76it [01:02,  1.20it/s]"
     ]
    },
    {
     "name": "stdout",
     "output_type": "stream",
     "text": [
      "[HTML] https://www.svnit.ac.in/web/department/computer/btech_3.php\n"
     ]
    },
    {
     "name": "stderr",
     "output_type": "stream",
     "text": [
      "77it [01:03,  1.26it/s]"
     ]
    },
    {
     "name": "stdout",
     "output_type": "stream",
     "text": [
      "[HTML] https://www.svnit.ac.in/web/department/computer/CO318.php\n"
     ]
    },
    {
     "name": "stderr",
     "output_type": "stream",
     "text": [
      "78it [01:03,  1.31it/s]"
     ]
    },
    {
     "name": "stdout",
     "output_type": "stream",
     "text": [
      "[HTML] https://www.svnit.ac.in/web/department/computer/CO308.php\n"
     ]
    },
    {
     "name": "stderr",
     "output_type": "stream",
     "text": [
      "79it [01:04,  1.32it/s]"
     ]
    },
    {
     "name": "stdout",
     "output_type": "stream",
     "text": [
      "[HTML] https://www.svnit.ac.in/web/department/computer/CO306.php\n"
     ]
    },
    {
     "name": "stderr",
     "output_type": "stream",
     "text": [
      "80it [01:05,  1.32it/s]"
     ]
    },
    {
     "name": "stdout",
     "output_type": "stream",
     "text": [
      "[HTML] https://www.svnit.ac.in/web/department/computer/CO304.php\n"
     ]
    },
    {
     "name": "stderr",
     "output_type": "stream",
     "text": [
      "81it [01:06,  1.34it/s]"
     ]
    },
    {
     "name": "stdout",
     "output_type": "stream",
     "text": [
      "[HTML] https://www.svnit.ac.in/web/department/computer/CO303.php\n"
     ]
    },
    {
     "name": "stderr",
     "output_type": "stream",
     "text": [
      "82it [01:06,  1.36it/s]"
     ]
    },
    {
     "name": "stdout",
     "output_type": "stream",
     "text": [
      "[HTML] https://www.svnit.ac.in/web/department/computer/CO305.php\n"
     ]
    },
    {
     "name": "stderr",
     "output_type": "stream",
     "text": [
      "83it [01:07,  1.33it/s]"
     ]
    },
    {
     "name": "stdout",
     "output_type": "stream",
     "text": [
      "[HTML] https://www.svnit.ac.in/web/department/computer/CO309.php\n"
     ]
    },
    {
     "name": "stderr",
     "output_type": "stream",
     "text": [
      "Unable to load from https://www.svnit.ac.in/web/department/computer/8. https:/www.digitalocean.com/community/articles/how-to-use-google-s-smtp-server. Received error Received HTTP status 404 of type ValueError\n",
      "84it [01:08,  1.10it/s]"
     ]
    },
    {
     "name": "stdout",
     "output_type": "stream",
     "text": [
      "[HTML] https://www.svnit.ac.in/web/department/computer/CO322.php\n"
     ]
    },
    {
     "name": "stderr",
     "output_type": "stream",
     "text": [
      "85it [01:09,  1.18it/s]"
     ]
    },
    {
     "name": "stdout",
     "output_type": "stream",
     "text": [
      "[HTML] https://www.svnit.ac.in/web/department/computer/CO319.php\n"
     ]
    },
    {
     "name": "stderr",
     "output_type": "stream",
     "text": [
      "86it [01:10,  1.20it/s]"
     ]
    },
    {
     "name": "stdout",
     "output_type": "stream",
     "text": [
      "[HTML] https://www.svnit.ac.in/web/department/computer/CO311.php\n"
     ]
    },
    {
     "name": "stderr",
     "output_type": "stream",
     "text": [
      "87it [01:11,  1.24it/s]"
     ]
    },
    {
     "name": "stdout",
     "output_type": "stream",
     "text": [
      "[HTML] https://www.svnit.ac.in/web/department/computer/CO313.php\n"
     ]
    },
    {
     "name": "stderr",
     "output_type": "stream",
     "text": [
      "88it [01:11,  1.28it/s]"
     ]
    },
    {
     "name": "stdout",
     "output_type": "stream",
     "text": [
      "[HTML] https://www.svnit.ac.in/web/department/computer/CO310.php\n"
     ]
    },
    {
     "name": "stderr",
     "output_type": "stream",
     "text": [
      "89it [01:12,  1.29it/s]"
     ]
    },
    {
     "name": "stdout",
     "output_type": "stream",
     "text": [
      "[HTML] https://www.svnit.ac.in/web/department/computer/CO314.php\n"
     ]
    },
    {
     "name": "stderr",
     "output_type": "stream",
     "text": [
      "Unable to load from https://www.svnit.ac.in/web/department/computer/MIT.pdf. Received error Received HTTP status 404 of type ValueError\n",
      "90it [01:13,  1.19it/s]"
     ]
    },
    {
     "name": "stdout",
     "output_type": "stream",
     "text": [
      "[HTML] https://www.svnit.ac.in/web/department/computer/CO315.php\n"
     ]
    },
    {
     "name": "stderr",
     "output_type": "stream",
     "text": [
      "91it [01:14,  1.22it/s]"
     ]
    },
    {
     "name": "stdout",
     "output_type": "stream",
     "text": [
      "[HTML] https://www.svnit.ac.in/web/department/computer/btech_4.php\n"
     ]
    },
    {
     "name": "stderr",
     "output_type": "stream",
     "text": [
      "92it [01:15,  1.28it/s]"
     ]
    },
    {
     "name": "stdout",
     "output_type": "stream",
     "text": [
      "[HTML] https://www.svnit.ac.in/web/department/computer/CO401.php\n"
     ]
    },
    {
     "name": "stderr",
     "output_type": "stream",
     "text": [
      "93it [01:15,  1.28it/s]"
     ]
    },
    {
     "name": "stdout",
     "output_type": "stream",
     "text": [
      "[HTML] https://www.svnit.ac.in/web/department/computer/btech_2.php\n"
     ]
    },
    {
     "name": "stderr",
     "output_type": "stream",
     "text": [
      "94it [01:16,  1.25it/s]"
     ]
    },
    {
     "name": "stdout",
     "output_type": "stream",
     "text": [
      "[HTML] https://www.svnit.ac.in/web/department/computer/EE207.php\n"
     ]
    },
    {
     "name": "stderr",
     "output_type": "stream",
     "text": [
      "95it [01:17,  1.25it/s]"
     ]
    },
    {
     "name": "stdout",
     "output_type": "stream",
     "text": [
      "[HTML] https://www.svnit.ac.in/web/department/computer/CO201.php\n"
     ]
    },
    {
     "name": "stderr",
     "output_type": "stream",
     "text": [
      "96it [01:18,  1.28it/s]"
     ]
    },
    {
     "name": "stdout",
     "output_type": "stream",
     "text": [
      "[HTML] https://www.svnit.ac.in/web/department/computer/CO206.php\n"
     ]
    },
    {
     "name": "stderr",
     "output_type": "stream",
     "text": [
      "97it [01:19,  1.28it/s]"
     ]
    },
    {
     "name": "stdout",
     "output_type": "stream",
     "text": [
      "[HTML] https://www.svnit.ac.in/web/department/computer/CO203.php\n"
     ]
    },
    {
     "name": "stderr",
     "output_type": "stream",
     "text": [
      "98it [01:19,  1.30it/s]"
     ]
    },
    {
     "name": "stdout",
     "output_type": "stream",
     "text": [
      "[HTML] https://www.svnit.ac.in/web/department/computer/MH210.php\n"
     ]
    },
    {
     "name": "stderr",
     "output_type": "stream",
     "text": [
      "99it [01:20,  1.32it/s]"
     ]
    },
    {
     "name": "stdout",
     "output_type": "stream",
     "text": [
      "[HTML] https://www.svnit.ac.in/web/department/computer/CO204.php\n"
     ]
    },
    {
     "name": "stderr",
     "output_type": "stream",
     "text": [
      "100it [01:21,  1.15it/s]"
     ]
    },
    {
     "name": "stdout",
     "output_type": "stream",
     "text": [
      "[HTML] https://www.svnit.ac.in/web/department/computer/CO202.php\n"
     ]
    },
    {
     "name": "stderr",
     "output_type": "stream",
     "text": [
      "101it [01:22,  1.18it/s]"
     ]
    },
    {
     "name": "stdout",
     "output_type": "stream",
     "text": [
      "[HTML] https://www.svnit.ac.in/web/department/computer/EC207.php\n"
     ]
    },
    {
     "name": "stderr",
     "output_type": "stream",
     "text": [
      "102it [01:23,  1.21it/s]"
     ]
    },
    {
     "name": "stdout",
     "output_type": "stream",
     "text": [
      "[HTML] https://www.svnit.ac.in/web/department/computer/MH203.php\n"
     ]
    },
    {
     "name": "stderr",
     "output_type": "stream",
     "text": [
      "103it [01:24,  1.24it/s]"
     ]
    },
    {
     "name": "stdout",
     "output_type": "stream",
     "text": [
      "[HTML] https://www.svnit.ac.in/web/department/computer/CO207.php\n"
     ]
    },
    {
     "name": "stderr",
     "output_type": "stream",
     "text": [
      "104it [01:24,  1.21it/s]"
     ]
    },
    {
     "name": "stdout",
     "output_type": "stream",
     "text": [
      "[HTML] https://www.svnit.ac.in/web/department/computer/EE212.php\n"
     ]
    },
    {
     "name": "stderr",
     "output_type": "stream",
     "text": [
      "105it [01:25,  1.27it/s]"
     ]
    },
    {
     "name": "stdout",
     "output_type": "stream",
     "text": [
      "[HTML] https://www.svnit.ac.in/web/department/computer/CO421.php\n"
     ]
    },
    {
     "name": "stderr",
     "output_type": "stream",
     "text": [
      "106it [01:26,  1.31it/s]"
     ]
    },
    {
     "name": "stdout",
     "output_type": "stream",
     "text": [
      "[HTML] https://www.svnit.ac.in/web/department/computer/CO408.php\n"
     ]
    },
    {
     "name": "stderr",
     "output_type": "stream",
     "text": [
      "Unable to load from https://www.svnit.ac.in/web/department/computer/CO411.php. Received error Received HTTP status 404 of type ValueError\n",
      "107it [01:27,  1.27it/s]"
     ]
    },
    {
     "name": "stdout",
     "output_type": "stream",
     "text": [
      "[HTML] https://www.svnit.ac.in/web/department/computer/MH402.php\n"
     ]
    },
    {
     "name": "stderr",
     "output_type": "stream",
     "text": [
      "108it [01:27,  1.35it/s]"
     ]
    },
    {
     "name": "stdout",
     "output_type": "stream",
     "text": [
      "[HTML] https://www.svnit.ac.in/web/department/computer/CO402.php\n"
     ]
    },
    {
     "name": "stderr",
     "output_type": "stream",
     "text": [
      "109it [01:28,  1.42it/s]"
     ]
    },
    {
     "name": "stdout",
     "output_type": "stream",
     "text": [
      "[HTML] https://www.svnit.ac.in/web/department/computer/CO403.php\n"
     ]
    },
    {
     "name": "stderr",
     "output_type": "stream",
     "text": [
      "110it [01:29,  1.47it/s]"
     ]
    },
    {
     "name": "stdout",
     "output_type": "stream",
     "text": [
      "[HTML] https://www.svnit.ac.in/web/department/computer/CO412.php\n"
     ]
    },
    {
     "name": "stderr",
     "output_type": "stream",
     "text": [
      "111it [01:29,  1.53it/s]"
     ]
    },
    {
     "name": "stdout",
     "output_type": "stream",
     "text": [
      "[HTML] https://www.svnit.ac.in/web/department/computer/CO428.php\n"
     ]
    },
    {
     "name": "stderr",
     "output_type": "stream",
     "text": [
      "112it [01:30,  1.52it/s]"
     ]
    },
    {
     "name": "stdout",
     "output_type": "stream",
     "text": [
      "[HTML] https://www.svnit.ac.in/web/department/computer/CO406.php\n"
     ]
    },
    {
     "name": "stderr",
     "output_type": "stream",
     "text": [
      "113it [01:30,  1.55it/s]"
     ]
    },
    {
     "name": "stdout",
     "output_type": "stream",
     "text": [
      "[HTML] https://www.svnit.ac.in/web/department/computer/CO413.php\n"
     ]
    },
    {
     "name": "stderr",
     "output_type": "stream",
     "text": [
      "114it [01:31,  1.55it/s]"
     ]
    },
    {
     "name": "stdout",
     "output_type": "stream",
     "text": [
      "[HTML] https://www.svnit.ac.in/web/department/computer/CO414.php\n"
     ]
    },
    {
     "name": "stderr",
     "output_type": "stream",
     "text": [
      "115it [01:32,  1.57it/s]"
     ]
    },
    {
     "name": "stdout",
     "output_type": "stream",
     "text": [
      "[HTML] https://www.svnit.ac.in/web/department/computer/CO426.php\n"
     ]
    },
    {
     "name": "stderr",
     "output_type": "stream",
     "text": [
      "116it [01:32,  1.57it/s]"
     ]
    },
    {
     "name": "stdout",
     "output_type": "stream",
     "text": [
      "[HTML] https://www.svnit.ac.in/web/department/computer/CO410.php\n"
     ]
    },
    {
     "name": "stderr",
     "output_type": "stream",
     "text": [
      "117it [01:33,  1.61it/s]"
     ]
    },
    {
     "name": "stdout",
     "output_type": "stream",
     "text": [
      "[HTML] https://www.svnit.ac.in/web/department/computer/CO418.php\n"
     ]
    },
    {
     "name": "stderr",
     "output_type": "stream",
     "text": [
      "118it [01:34,  1.56it/s]"
     ]
    },
    {
     "name": "stdout",
     "output_type": "stream",
     "text": [
      "[HTML] https://www.svnit.ac.in/web/department/computer/CO405.php\n"
     ]
    },
    {
     "name": "stderr",
     "output_type": "stream",
     "text": [
      "119it [01:34,  1.60it/s]"
     ]
    },
    {
     "name": "stdout",
     "output_type": "stream",
     "text": [
      "[HTML] https://www.svnit.ac.in/web/department/computer/CO417.php\n"
     ]
    },
    {
     "name": "stderr",
     "output_type": "stream",
     "text": [
      "120it [01:35,  1.52it/s]"
     ]
    },
    {
     "name": "stdout",
     "output_type": "stream",
     "text": [
      "[HTML] https://www.svnit.ac.in/web/department/computer/CO415.php\n"
     ]
    },
    {
     "name": "stderr",
     "output_type": "stream",
     "text": [
      "121it [01:36,  1.52it/s]"
     ]
    },
    {
     "name": "stdout",
     "output_type": "stream",
     "text": [
      "[HTML] https://www.svnit.ac.in/web/department/computer/CO424.php\n"
     ]
    },
    {
     "name": "stderr",
     "output_type": "stream",
     "text": [
      "122it [01:36,  1.45it/s]"
     ]
    },
    {
     "name": "stdout",
     "output_type": "stream",
     "text": [
      "[HTML] https://www.svnit.ac.in/web/department/computer/first_year.php\n"
     ]
    },
    {
     "name": "stderr",
     "output_type": "stream",
     "text": [
      "123it [01:39,  1.39s/it]"
     ]
    },
    {
     "name": "stdout",
     "output_type": "stream",
     "text": [
      "[PDF]  https://www.svnit.ac.in/web/department/computer/pdf/Final%20Formatted%20DoCSE%20Newsletter%20Issue%208.pdf\n"
     ]
    },
    {
     "name": "stderr",
     "output_type": "stream",
     "text": [
      "124it [01:42,  1.78s/it]"
     ]
    },
    {
     "name": "stdout",
     "output_type": "stream",
     "text": [
      "[PDF]  https://www.svnit.ac.in/web/department/computer/pdf/Newsletter-7.pdf\n"
     ]
    },
    {
     "name": "stderr",
     "output_type": "stream",
     "text": [
      "125it [01:45,  2.10s/it]"
     ]
    },
    {
     "name": "stdout",
     "output_type": "stream",
     "text": [
      "[PDF]  https://www.svnit.ac.in/web/department/computer/pdf/newsletter-9%20%202023.pdf\n"
     ]
    },
    {
     "name": "stderr",
     "output_type": "stream",
     "text": [
      "126it [01:49,  2.81s/it]"
     ]
    },
    {
     "name": "stdout",
     "output_type": "stream",
     "text": [
      "[PDF]  https://www.svnit.ac.in/web/department/computer/pdf/NEWSLETTER%20DEC%202024%20%28Issue%2012%2907-01-2025.pdf\n"
     ]
    },
    {
     "name": "stderr",
     "output_type": "stream",
     "text": [
      "127it [01:52,  2.82s/it]"
     ]
    },
    {
     "name": "stdout",
     "output_type": "stream",
     "text": [
      "[PDF]  https://www.svnit.ac.in/web/department/computer/pdf/COED-Newsletter%20Issue%203-Jan-2021.pdf\n"
     ]
    },
    {
     "name": "stderr",
     "output_type": "stream",
     "text": [
      "128it [01:54,  2.61s/it]"
     ]
    },
    {
     "name": "stdout",
     "output_type": "stream",
     "text": [
      "[PDF]  https://www.svnit.ac.in/web/department/computer/pdf/newsletter-9%20%202023%20-%20Final%20%281%29.pdf\n"
     ]
    },
    {
     "name": "stderr",
     "output_type": "stream",
     "text": [
      "129it [01:57,  2.63s/it]"
     ]
    },
    {
     "name": "stdout",
     "output_type": "stream",
     "text": [
      "[PDF]  https://www.svnit.ac.in/web/department/computer/pdf/Issue-VI-January-2022.pdf\n"
     ]
    },
    {
     "name": "stderr",
     "output_type": "stream",
     "text": [
      "130it [02:01,  3.00s/it]"
     ]
    },
    {
     "name": "stdout",
     "output_type": "stream",
     "text": [
      "[PDF]  https://www.svnit.ac.in/web/department/computer/pdf/DoCSE%20Newsletter%20Issue%2011.pdf\n"
     ]
    },
    {
     "name": "stderr",
     "output_type": "stream",
     "text": [
      "131it [02:03,  1.06it/s]"
     ]
    },
    {
     "name": "stdout",
     "output_type": "stream",
     "text": [
      "[PDF]  https://www.svnit.ac.in/web/department/computer/pdf/Newsletter-Issue-5-Sept-2021.pdf\n"
     ]
    },
    {
     "name": "stderr",
     "output_type": "stream",
     "text": [
      "\n"
     ]
    }
   ],
   "source": [
    "loader = RecursiveUrlLoader(url=parent_url, max_depth=max_depth)\n",
    "documents = loader.lazy_load()\n",
    "\n",
    "pdf_urls = []\n",
    "html_urls = []\n",
    "\n",
    "try:\n",
    "    loader = RecursiveUrlLoader(url=parent_url, max_depth=max_depth, extractor=bs4_extractor,continue_on_failure=True, check_response_status=True, autoset_encoding=True)\n",
    "    documents = loader.lazy_load()\n",
    "\n",
    "    for doc in tqdm(documents):\n",
    "        raw_url = doc.metadata.get('source', '')\n",
    "        url = urllib.parse.quote(raw_url, safe=':/')  # Encode spaces etc.\n",
    "\n",
    "        try:\n",
    "            # Use HEAD for fast check\n",
    "            response = requests.head(url, allow_redirects=True, timeout=5)\n",
    "            content_type = response.headers.get('Content-Type', '').lower()\n",
    "\n",
    "            if response.status_code == 200:\n",
    "                if 'application/pdf' in content_type or url.lower().endswith('.pdf'):\n",
    "                    print(f\"[PDF]  {url}\")\n",
    "                    pdf_urls.append(url)\n",
    "                elif 'text/html' in content_type:\n",
    "                    print(f\"[HTML] {url}\")\n",
    "                    html_urls.append(url)\n",
    "\n",
    "        except requests.RequestException:\n",
    "            continue  # Skip unreachable URLs\n",
    "\n",
    "except Exception as e:\n",
    "    print(f\"Unexpected error: {e}\")"
   ]
  },
  {
   "cell_type": "code",
   "execution_count": 32,
   "id": "861c3bcb",
   "metadata": {},
   "outputs": [
    {
     "data": {
      "text/plain": [
       "'Length of PDF URLs: 33'"
      ]
     },
     "execution_count": 32,
     "metadata": {},
     "output_type": "execute_result"
    }
   ],
   "source": [
    "f\"Length of PDF URLs: {len(pdf_urls)}\" "
   ]
  },
  {
   "cell_type": "code",
   "execution_count": 33,
   "id": "b532417b",
   "metadata": {},
   "outputs": [
    {
     "data": {
      "text/plain": [
       "'Length of HTML URLs: 97'"
      ]
     },
     "execution_count": 33,
     "metadata": {},
     "output_type": "execute_result"
    }
   ],
   "source": [
    "f\"Length of HTML URLs: {len(html_urls)}\" "
   ]
  },
  {
   "cell_type": "code",
   "execution_count": 34,
   "id": "5ff9f700",
   "metadata": {},
   "outputs": [],
   "source": [
    "with open(f\"pdf_urls_{parent_text}.txt\", \"w\", encoding=\"utf-8\") as f:\n",
    "    for url in pdf_urls:\n",
    "        f.write(url + \"\\n\")\n",
    "\n",
    "with open(f\"html_urls_{parent_text}.txt\", \"w\", encoding=\"utf-8\") as f:\n",
    "    for url in html_urls:\n",
    "        f.write(url + \"\\n\")\n"
   ]
  },
  {
   "cell_type": "code",
   "execution_count": null,
   "id": "79ae85c9",
   "metadata": {},
   "outputs": [
    {
     "name": "stdout",
     "output_type": "stream",
     "text": [
      "✅ Added HTML: https://www.svnit.ac.in/web/department/computer/\n",
      "✅ Added HTML: https://www.svnit.ac.in/web/department/computer/newsletter_computer.php\n",
      "✅ Added HTML: https://www.svnit.ac.in/web/department/computer/index.php\n",
      "✅ Added HTML: https://www.svnit.ac.in/web/department/computer/contact%20us.php\n",
      "✅ Added HTML: https://www.svnit.ac.in/web/department/computer/rd-projects.php\n",
      "✅ Added HTML: https://www.svnit.ac.in/web/department/computer/curriculum-btech.php\n",
      "✅ Added HTML: https://www.svnit.ac.in/web/department/computer/CO307.php\n",
      "✅ Added HTML: https://www.svnit.ac.in/web/department/computer/patent-detail.php\n",
      "✅ Added HTML: https://www.svnit.ac.in/web/department/computer/faculty-achievement.php\n",
      "✅ Added HTML: https://www.svnit.ac.in/web/department/computer/hod-message.php\n",
      "✅ Added HTML: https://www.svnit.ac.in/web/department/computer/student-achievement.php\n",
      "✅ Added HTML: https://www.svnit.ac.in/web/department/computer/curriculum-mtech.php\n",
      "✅ Added HTML: https://www.svnit.ac.in/web/department/computer/conference-organized.php\n",
      "✅ Added HTML: https://www.svnit.ac.in/web/department/computer/academic-phd.php\n",
      "✅ Added HTML: https://www.svnit.ac.in/web/department/computer/consultancy-work.php\n",
      "✅ Added HTML: https://www.svnit.ac.in/web/department/computer/laboratories.php\n",
      "✅ Added HTML: https://www.svnit.ac.in/web/department/computer/6gv-lab.html\n",
      "✅ Added HTML: https://www.svnit.ac.in/web/department/computer/9data-science-lab.html\n",
      "✅ Added HTML: https://www.svnit.ac.in/web/department/computer/11btech-project-lab.html\n",
      "✅ Added HTML: https://www.svnit.ac.in/web/department/computer/MeitY%20Drone%20Project/\n",
      "✅ Added HTML: https://www.svnit.ac.in/web/department/computer/MeitY%20Drone%20Project/Lab%20Infrastructure.html\n",
      "✅ Added HTML: https://www.svnit.ac.in/web/department/computer/MeitY%20Drone%20Project/Boot%20Camps.html\n",
      "✅ Added HTML: https://www.svnit.ac.in/web/department/computer/MeitY%20Drone%20Project/index.html\n",
      "✅ Added HTML: https://www.svnit.ac.in/web/department/computer/MeitY%20Drone%20Project/Courses.html\n",
      "✅ Added HTML: https://www.svnit.ac.in/web/department/computer/MeitY%20Drone%20Project/About%20Us.html\n",
      "✅ Added HTML: https://www.svnit.ac.in/web/department/computer/MeitY%20Drone%20Project/Bootcamp2.html\n",
      "✅ Added HTML: https://www.svnit.ac.in/web/department/computer/MeitY%20Drone%20Project/Bootcamp4.html\n",
      "✅ Added HTML: https://www.svnit.ac.in/web/department/computer/MeitY%20Drone%20Project/Bootcamp1.html\n",
      "✅ Added HTML: https://www.svnit.ac.in/web/department/computer/MeitY%20Drone%20Project/Bootcamp3.html\n",
      "✅ Added HTML: https://www.svnit.ac.in/web/department/computer/8micro-processor-lab.html\n",
      "✅ Added HTML: https://www.svnit.ac.in/web/department/computer/14forensics-lab.html\n",
      "✅ Added HTML: https://www.svnit.ac.in/web/department/computer/7cismr-lab.html\n",
      "✅ Added HTML: https://www.svnit.ac.in/web/department/computer/12mtech-project-lab.html\n",
      "✅ Added HTML: https://www.svnit.ac.in/web/department/computer/2com-lab-2.html\n",
      "✅ Added HTML: https://www.svnit.ac.in/web/department/computer/10ns-lab.html\n",
      "✅ Added HTML: https://www.svnit.ac.in/web/department/computer/5hpc-lab.html\n",
      "✅ Added HTML: https://www.svnit.ac.in/web/department/computer/faculty.php\n",
      "✅ Added HTML: https://www.svnit.ac.in/web/department/computer/workshop-detail.php\n",
      "✅ Added HTML: https://www.svnit.ac.in/web/department/computer/academic-mtech.php\n",
      "✅ Added HTML: https://www.svnit.ac.in/web/department/computer/puc.php\n",
      "✅ Added HTML: https://www.svnit.ac.in/web/department/computer/vision-mission.php\n",
      "✅ Added HTML: https://www.svnit.ac.in/web/department/computer/curriculum-phd.php\n",
      "✅ Added HTML: https://www.svnit.ac.in/web/department/computer/consultancy.php\n",
      "✅ Added HTML: https://www.svnit.ac.in/web/department/computer/1com-lab-1.html\n",
      "✅ Added HTML: https://www.svnit.ac.in/web/department/computer/CO316.php\n",
      "✅ Added HTML: https://www.svnit.ac.in/web/department/computer/CO317.php\n",
      "✅ Added HTML: https://www.svnit.ac.in/web/department/computer/CO312.php\n",
      "✅ Added HTML: https://www.svnit.ac.in/web/department/computer/EC208.php\n",
      "✅ Added HTML: https://www.svnit.ac.in/web/department/computer/CO302.php\n",
      "✅ Added HTML: https://www.svnit.ac.in/web/department/computer/CO419.php\n",
      "✅ Added HTML: https://www.svnit.ac.in/web/department/computer/btech_3.php\n",
      "✅ Added HTML: https://www.svnit.ac.in/web/department/computer/CO318.php\n",
      "✅ Added HTML: https://www.svnit.ac.in/web/department/computer/CO308.php\n",
      "✅ Added HTML: https://www.svnit.ac.in/web/department/computer/CO306.php\n",
      "✅ Added HTML: https://www.svnit.ac.in/web/department/computer/CO304.php\n",
      "✅ Added HTML: https://www.svnit.ac.in/web/department/computer/CO303.php\n",
      "✅ Added HTML: https://www.svnit.ac.in/web/department/computer/CO305.php\n",
      "✅ Added HTML: https://www.svnit.ac.in/web/department/computer/CO309.php\n",
      "✅ Added HTML: https://www.svnit.ac.in/web/department/computer/CO322.php\n",
      "✅ Added HTML: https://www.svnit.ac.in/web/department/computer/CO319.php\n",
      "✅ Added HTML: https://www.svnit.ac.in/web/department/computer/CO311.php\n",
      "✅ Added HTML: https://www.svnit.ac.in/web/department/computer/CO313.php\n",
      "✅ Added HTML: https://www.svnit.ac.in/web/department/computer/CO310.php\n",
      "✅ Added HTML: https://www.svnit.ac.in/web/department/computer/CO314.php\n",
      "✅ Added HTML: https://www.svnit.ac.in/web/department/computer/CO315.php\n",
      "✅ Added HTML: https://www.svnit.ac.in/web/department/computer/btech_4.php\n",
      "✅ Added HTML: https://www.svnit.ac.in/web/department/computer/CO401.php\n",
      "✅ Added HTML: https://www.svnit.ac.in/web/department/computer/btech_2.php\n",
      "✅ Added HTML: https://www.svnit.ac.in/web/department/computer/EE207.php\n",
      "✅ Added HTML: https://www.svnit.ac.in/web/department/computer/CO201.php\n",
      "✅ Added HTML: https://www.svnit.ac.in/web/department/computer/CO206.php\n",
      "✅ Added HTML: https://www.svnit.ac.in/web/department/computer/CO203.php\n",
      "✅ Added HTML: https://www.svnit.ac.in/web/department/computer/MH210.php\n",
      "✅ Added HTML: https://www.svnit.ac.in/web/department/computer/CO204.php\n",
      "✅ Added HTML: https://www.svnit.ac.in/web/department/computer/CO202.php\n",
      "✅ Added HTML: https://www.svnit.ac.in/web/department/computer/EC207.php\n",
      "✅ Added HTML: https://www.svnit.ac.in/web/department/computer/MH203.php\n",
      "✅ Added HTML: https://www.svnit.ac.in/web/department/computer/CO207.php\n",
      "✅ Added HTML: https://www.svnit.ac.in/web/department/computer/EE212.php\n",
      "✅ Added HTML: https://www.svnit.ac.in/web/department/computer/CO421.php\n",
      "✅ Added HTML: https://www.svnit.ac.in/web/department/computer/CO408.php\n",
      "✅ Added HTML: https://www.svnit.ac.in/web/department/computer/MH402.php\n",
      "✅ Added HTML: https://www.svnit.ac.in/web/department/computer/CO402.php\n",
      "✅ Added HTML: https://www.svnit.ac.in/web/department/computer/CO403.php\n",
      "✅ Added HTML: https://www.svnit.ac.in/web/department/computer/CO412.php\n",
      "✅ Added HTML: https://www.svnit.ac.in/web/department/computer/CO428.php\n",
      "✅ Added HTML: https://www.svnit.ac.in/web/department/computer/CO406.php\n",
      "✅ Added HTML: https://www.svnit.ac.in/web/department/computer/CO413.php\n",
      "✅ Added HTML: https://www.svnit.ac.in/web/department/computer/CO414.php\n",
      "✅ Added HTML: https://www.svnit.ac.in/web/department/computer/CO426.php\n",
      "✅ Added HTML: https://www.svnit.ac.in/web/department/computer/CO410.php\n",
      "✅ Added HTML: https://www.svnit.ac.in/web/department/computer/CO418.php\n",
      "✅ Added HTML: https://www.svnit.ac.in/web/department/computer/CO405.php\n",
      "✅ Added HTML: https://www.svnit.ac.in/web/department/computer/CO417.php\n",
      "✅ Added HTML: https://www.svnit.ac.in/web/department/computer/CO415.php\n",
      "✅ Added HTML: https://www.svnit.ac.in/web/department/computer/CO424.php\n",
      "✅ Added HTML: https://www.svnit.ac.in/web/department/computer/first_year.php\n",
      "✅ Added PDF: https://www.svnit.ac.in/web/department/computer/pdf/CoED%20Newsletter%20June%202020.pdf\n",
      "✅ Added PDF: https://www.svnit.ac.in/web/department/computer/pdf/COED-Newletter-October-2020-Issue-2.pdf\n",
      "✅ Added PDF: https://www.svnit.ac.in/web/department/computer/pdf/Newslatter%20Issue%204.pdf\n",
      "✅ Added PDF: https://www.svnit.ac.in/web/department/computer/pdf/mtech/MTech%20CSE%20ISP%20Curriculum%20Syllabus%2021-6-2024%20%281%29.pdf\n",
      "✅ Added PDF: https://www.svnit.ac.in/web/department/computer/pdf/mtech/MTechCSE_ISP_SVNIT.pdf\n",
      "✅ Added PDF: https://www.svnit.ac.in/web/department/computer/pdf/mtech/MTech_CSE_Curriculum_2023.pdf\n",
      "✅ Added PDF: https://www.svnit.ac.in/web/department/computer/pdf/mtech/MTech%20CSE%20Curriculum%20Syllabus%2021-6-2024.pdf\n",
      "✅ Added PDF: https://www.svnit.ac.in/web/department/computer/pdf/mtech/MTechCSE_DS_SVNIT.pdf\n",
      "✅ Added PDF: https://www.svnit.ac.in/web/department/computer/pdf/Point%205%20Faculty%20Information%20SAR%20for%20NBA%20CAY%2024-25%20-%20CAYm1%20and%20CAYm2.pdf\n",
      "✅ Added PDF: https://www.svnit.ac.in/web/department/computer/pdf/STTP-FDP-WorkshopsDoCSE_June2005Onwards.pdf\n",
      "✅ Added PDF: https://www.svnit.ac.in/web/department/computer/pdf/Point%204%20Placement%20Higher%20Studies%20Data%20for%20NBA%20-CAYm1%2023-24%20CAYm2%20CAYm3.pdf\n",
      "✅ Added PDF: https://www.svnit.ac.in/web/department/computer/pdf/Roll%20List%20B.Tech.pdf\n",
      "✅ Added PDF: https://www.svnit.ac.in/web/department/computer/pdf/curriculum/phd/DoCSE_PhD%20Comphrensive%20Examination%20Syllabus%20August-2023.pdf\n",
      "✅ Added PDF: https://www.svnit.ac.in/web/department/computer/pdf/curriculum/phd/Comprehensive-Syllabus-Research-area-June-2021.pdf\n",
      "✅ Added PDF: https://www.svnit.ac.in/web/department/computer/pdf/curriculum/phd/Comprehensive-Syllabus-Research-area-July-2020.pdf\n",
      "✅ Added PDF: https://www.svnit.ac.in/web/department/computer/pdf/curriculum/phd/PhD%20Comprehensive%20Exam%20-%20Syllabus%20Jan%202022.pdf\n",
      "✅ Added PDF: https://www.svnit.ac.in/web/department/computer/pdf/curriculum/phd/phd%20comprehensive%20exam%20%20%20syllabus-COED.pdf\n",
      "✅ Added PDF: https://www.svnit.ac.in/web/department/computer/pdf/curriculum/phd/Comprehensive-Syllabus-Research-area-Oct-2020.pdf\n",
      "✅ Added PDF: https://www.svnit.ac.in/web/department/computer/pdf/curriculum/phd/PhD%20Comprehensive%20Exam%20July%202021-Instructions.pdf\n",
      "✅ Added PDF: https://www.svnit.ac.in/web/department/computer/pdf/curriculum/phd/PhD-Comprehensive-Exam-Instructions-Jan-2022.pdf\n",
      "✅ Added PDF: https://www.svnit.ac.in/web/department/computer/pdf/Conferences_DoCSE.pdf\n",
      "✅ Added PDF: https://www.svnit.ac.in/web/department/computer/pdf/ResearchProjects.pdf\n",
      "✅ Added PDF: https://www.svnit.ac.in/web/department/computer/pdf/MTech%20CSE%2018-May-2022.pdf\n",
      "✅ Added PDF: https://www.svnit.ac.in/web/department/computer/pdf/mtech/MTech%20CSE%20DS%20Curriculum%20Syllabus%2021-6-2024.pdf\n",
      "✅ Added PDF: https://www.svnit.ac.in/web/department/computer/pdf/Final%20Formatted%20DoCSE%20Newsletter%20Issue%208.pdf\n",
      "✅ Added PDF: https://www.svnit.ac.in/web/department/computer/pdf/Newsletter-7.pdf\n",
      "✅ Added PDF: https://www.svnit.ac.in/web/department/computer/pdf/newsletter-9%20%202023.pdf\n",
      "✅ Added PDF: https://www.svnit.ac.in/web/department/computer/pdf/NEWSLETTER%20DEC%202024%20%28Issue%2012%2907-01-2025.pdf\n",
      "✅ Added PDF: https://www.svnit.ac.in/web/department/computer/pdf/COED-Newsletter%20Issue%203-Jan-2021.pdf\n",
      "✅ Added PDF: https://www.svnit.ac.in/web/department/computer/pdf/newsletter-9%20%202023%20-%20Final%20%281%29.pdf\n",
      "✅ Added PDF: https://www.svnit.ac.in/web/department/computer/pdf/Issue-VI-January-2022.pdf\n",
      "✅ Added PDF: https://www.svnit.ac.in/web/department/computer/pdf/DoCSE%20Newsletter%20Issue%2011.pdf\n",
      "✅ Added PDF: https://www.svnit.ac.in/web/department/computer/pdf/Newsletter-Issue-5-Sept-2021.pdf\n",
      "📦 FAISS vector DB stored with all-MiniLM-L6-v2 embeddings.\n"
     ]
    }
   ],
   "source": [
    "from langchain.document_loaders import WebBaseLoader, UnstructuredPDFLoader, PyMuPDFLoader\n",
    "from langchain.vectorstores import FAISS\n",
    "from langchain.embeddings import HuggingFaceEmbeddings\n",
    "from langchain.text_splitter import RecursiveCharacterTextSplitter\n",
    "import os\n",
    "import requests\n",
    "import uuid\n",
    "from dotenv import load_dotenv\n",
    "\n",
    "# Load environment variables\n",
    "load_dotenv()\n",
    "os.environ[\"HUGGINGFACEHUB_API_TOKEN\"] = os.getenv(\"HUGGINGFACEHUB_API_TOKEN\")\n",
    "\n",
    "# Initialize embedding model\n",
    "embedding = HuggingFaceEmbeddings(\n",
    "    model_name=\"sentence-transformers/all-MiniLM-L6-v2\",\n",
    "    model_kwargs={\"use_auth_token\": os.environ[\"HUGGINGFACEHUB_API_TOKEN\"]}\n",
    ")\n",
    "\n",
    "# Text splitter\n",
    "splitter = RecursiveCharacterTextSplitter(chunk_size=1000, chunk_overlap=200)\n",
    "\n",
    "# Prepare document collection\n",
    "all_docs = []\n",
    "\n",
    "# ---- Load HTML URLs ----\n",
    "with open(\"html_urls_CSE-Department.txt\", \"r\") as f:\n",
    "    html_urls = [line.strip() for line in f if line.strip()]\n",
    "\n",
    "for url in html_urls:\n",
    "    try:\n",
    "        loader = WebBaseLoader(url)\n",
    "        docs = loader.load()\n",
    "        docs = splitter.split_documents(docs)\n",
    "        all_docs.extend(docs)\n",
    "        print(f\"✅ Added HTML: {url}\")\n",
    "    except Exception as e:\n",
    "        print(f\"❌ Failed HTML: {url} - {e}\")\n",
    "\n",
    "# ---- Load PDF URLs ----\n",
    "with open(\"pdf_urls_CSE-Department.txt\", \"r\") as f:\n",
    "    pdf_urls = [line.strip() for linje in f if line.strip()]\n",
    "\n",
    "pdf_dir = \"downloaded_pdfs\"\n",
    "os.makedirs(pdf_dir, exist_ok=True)\n",
    "\n",
    "for url in pdf_urls:\n",
    "    try:\n",
    "        # Generate a unique filename\n",
    "        filename = f\"{uuid.uuid4().hex}.pdf\"\n",
    "        pdf_path = os.path.join(pdf_dir, filename)\n",
    "\n",
    "        # Download the PDF\n",
    "        response = requests.get(url)\n",
    "        response.raise_for_status()\n",
    "        with open(pdf_path, \"wb\") as f:\n",
    "            f.write(response.content)\n",
    "\n",
    "        # Load and split PDF\n",
    "        loader = PyMuPDFLoader(pdf_path)\n",
    "        docs = loader.load()\n",
    "        docs = splitter.split_documents(docs)\n",
    "        all_docs.extend(docs)\n",
    "\n",
    "        print(f\"✅ Added PDF: {url}\")\n",
    "    except Exception as e:\n",
    "        print(f\"❌ Failed PDF: {url} - {e}\")\n",
    "\n",
    "# ---- Build FAISS Index ----\n",
    "if all_docs:\n",
    "    vectordb = FAISS.from_documents(all_docs, embedding)\n",
    "    vectordb.save_local(\"faiss_all-MiniLM-L6-v2_db\")\n",
    "    print(\"📦 FAISS vector DB stored with all-MiniLM-L6-v2 embeddings.\")\n",
    "else:\n",
    "    print(\"⚠️ No documents were added to FAISS.\")\n"
   ]
  },
  {
   "cell_type": "code",
   "execution_count": 117,
   "id": "e9964bcb",
   "metadata": {},
   "outputs": [
    {
     "name": "stdout",
     "output_type": "stream",
     "text": [
      "\n",
      "--- Result 1 ---\n",
      "DEPARTMENT OF COMPUTER SCIENCE AND ENGINEERING \n",
      "NEWSLETTER, JULY 24, ISSUE - 11 \n",
      " \n",
      " \n",
      "1 \n",
      "MESSAGE FROM HEAD OF THE DEPARTMENT \n",
      " \n",
      "The Department has implemented National Education Policy (NEP) 2020. The curriculums of UG and \n",
      "PG programs are designed as per new education policy with a multidisciplinary approach. Two M.Tech. \n",
      "programs, M.Tech. Information Security and Privacy and M.Tech. Data Science are started from \n",
      "academic year 2023-24. The department is also in the process of a third drive for faculty recruitment. \n",
      "Although there is overall slack in the recruitment process, 85% recruitment is reported in the \n",
      "department for the academic year 2023-24 with the highest salary of 52 lakhs. First batch of B.Tech. \n",
      "where 8th semester is completely industry-based internship has been completed by the students \n",
      "successfully. M. Tech. students are also availing industry internships as a part of their dissertation. \n",
      "The department has a number of ongoing research projects. All the best to the students and faculty \n",
      "members for the next academic year 2024-25. \n",
      " \n",
      " \n",
      " \n",
      "PROF. MUKESH A. ZAVERI \n",
      "Professor & Head, \n",
      "DoCSE, SVNIT, Surat \n",
      "Email: hod@coed.svnit.ac.in\n",
      "\n",
      "--- Result 2 ---\n",
      "NEWSLETTER | DECEMBER 2024 | ISSUE 12 \n",
      " \n",
      "DEPARTMENT VISION \n",
      " \n",
      "The vision of Computer Science and Engineering Department is to recognize itself as a \n",
      "globally renowned learning center in the field of Computer Science & Engineering and \n",
      "foster research and innovations for the global good. \n",
      " \n",
      " \n",
      "DEPARTMENT MISSION \n",
      " \n",
      "The mission of Computer Science and Engineering Department is to \n",
      "• Impart education that encourages students to read critically, reason analytically, \n",
      "communicate persuasively, apply professionally and prepare them to excel in the \n",
      "field of computing. \n",
      "• Imbibe strong-willed attitude in the students, research scholars and its own \n",
      "community to use their knowledge and skill-sets for the improvement of the \n",
      "society, country, and global community. \n",
      "• Provide education based on ethical values resulting in knowledge and skills valued \n",
      "by industry and society. \n",
      "• Impart training and create an environment that enables students and faculty \n",
      "members alike to engage in lifelong learning and pursuit of knowledge.\n",
      "\n",
      "--- Result 3 ---\n",
      "2 \n",
      "DEPARTMENT OF COMPUTER SCIENCE AND ENGINEERIMG \n",
      "NEWSLETTER, January 2024, ISSUE - 10 \n",
      " \n",
      " \n",
      "“Year 2023 has ended with lots of new hops for the Department of \n",
      "Computer Science and Engineering for the next calendar year \n",
      "2024. Institute conducted two drives for faculty recruitment and the \n",
      "department is able to recruit six new faculty members which has \n",
      "enriched teaching faculty members' strength of the department. \n",
      "Faculty members also got their due promotion in this drive. \n",
      "Internship is introduced in 8th semester and more than 60% \n",
      "students are able to secure internship in industry and 10% students \n",
      "are able to associate themselves with startups. Overall placement \n",
      "and salary package are the issue for the current academic year but \n",
      "Computer Science and Engineering students are able to secure \n",
      "placement through campus and it is 75% at the end of the year \n",
      "2023 with an average salary package of 16 lacs. So, by the end of \n",
      "the current academic year more students will be placed. The \n",
      "department has published a good number of research papers in the \n",
      "last semester and the number of research proposals are also \n",
      "submitted to different agencies.  \n",
      "With best wishes to all, department faculty members, staff and \n",
      "students for the next calendar year in all aspects.” \n",
      "Message from Head of the Department \n",
      "Dr. Mukesh A. Zaveri \n",
      "Professor & Head,  \n",
      "Department of Computer Science and \n",
      "Engineering, SVNIT, Surat\n",
      "\n",
      "--- Result 4 ---\n",
      "3 \n",
      "DEPARTMENT OF COMPUTER SCIENCE AND ENGINEERIMG \n",
      "   NEWSLETTER, JULY 23, ISSUE - 9 \n",
      " \n",
      " \n",
      " \n",
      " \n",
      " \n",
      "With an aim to bolster the research and development in the field of Artificial Intelligence (AI), the Department \n",
      "of Artificial Intelligence has been set up at Sardar Vallabhbhai National Institute of Technology, Surat in year \n",
      "2023. The objective of the department is to strengthen education and research in the field of Artificial \n",
      "Intelligence, Machine Learning, Social Science, Natural Language Processing, Soft Computing, Computer \n",
      "Vision and allied areas. \n",
      " \n",
      "The department of AI has started offering B.Tech. and Ph.D. programs in Artificial Intelligence from academic \n",
      "year 2023-24. The student intake of B.Tech. (AI) program is 120.  \n",
      " \n",
      "The faculty members and staff of department of Computer Science and Engineering have been actively \n",
      "involved in overall functioning of department of AI.  \n",
      " \n",
      "Dr. Sankita J Patel, faculty member of the department of Computer Science and Engineering is currently the \n",
      "Faculty In-charge of the Department of AI.  \n",
      " \n",
      " \n",
      "The department of Computer Science and Engineering has introduced two new M. Tech. programs from \n",
      "academic year 2023-24 \n",
      " \n",
      "(1) M. Tech. Computer Science and Engineering with Specialization in Data Science \n",
      "(Student Intake: 30)  \n",
      " \n",
      "(2) M. Tech. Computer Science and Engineering with Specialization in Information \n",
      "Security & Privacy (Student Intake: 30) \n",
      " \n",
      " \n",
      "Department of Artificial Intelligence\n",
      "\n",
      "--- Result 5 ---\n",
      "Page 2 \n",
      " \n",
      "COMPUTER SCIENCE & ENGINEERING DEPARTMENT \n",
      "NEWSLETTER, DEC 24, ISSUE - 12 \n",
      " \n",
      " \n",
      " \n",
      " \n",
      "MESSAGE FROM HEAD OF THE DEPARTMENT \n",
      " \n",
      "The Department has implemented National Education Policy (NEP) 2020 from the academic year 2023-24 \n",
      "at UG level and year 2024-25 at PG level. The curriculums of UG and PG programs are designed as per \n",
      "new education policy with a multidisciplinary approach. Two M.Tech. programs, M.Tech. Information \n",
      "Security and Privacy (ISP) and M.Tech. Data Science (DS) are started from academic year 2023-24. PG \n",
      "admission in all three programs M.Tech. CSE, M.Tech. ISP, M.Tech. DS are running with full admissions. \n",
      "The department is also in the process of a third drive for faculty recruitment. Although there is overall \n",
      "slack in the recruitment process, 56% recruitment is reported till October in the department for the \n",
      "academic year 2024-25 with the highest salary of 52 lakhs. First batch of B.Tech. where 8th semester is \n",
      "completely industry based internship has been completed by the students successfully. M.Tech. students \n",
      "are also availing industry internships as a part of their dissertation. The department has a number of \n",
      "ongoing research projects. Third year student team won the Smart India Hackathon 2024 held at Chennai. \n",
      "Department conducted three international conferences, boot camp under ongoing Drone skill development \n",
      "program and Information Security Education Awareness program sponsored by Government of India. All\n"
     ]
    }
   ],
   "source": [
    "from langchain.vectorstores import FAISS\n",
    "from langchain_community.embeddings import  OpenAIEmbeddings\n",
    "\n",
    "# Load environment variables (optional if needed for HF token)\n",
    "from dotenv import load_dotenv\n",
    "load_dotenv()\n",
    "\n",
    "# Initialize embedding model\n",
    "embedding = OpenAIEmbeddings(\n",
    "    model=\"text-embedding-3-small\",\n",
    ")\n",
    "\n",
    "# Load FAISS vector database\n",
    "db = FAISS.load_local(\"embeddings_db\", embeddings=embedding, allow_dangerous_deserialization=True)\n",
    "\n",
    "# Example query\n",
    "query = \"Who is the head of the department 2025?\"\n",
    "results = db.similarity_search(query, k=5)  # Top 5 similar chunks\n",
    "\n",
    "# Display results\n",
    "for i, res in enumerate(results, 1):\n",
    "    print(f\"\\n--- Result {i} ---\")\n",
    "    print(res.page_content)\n"
   ]
  },
  {
   "cell_type": "code",
   "execution_count": 9,
   "id": "213b9aab",
   "metadata": {},
   "outputs": [
    {
     "name": "stdout",
     "output_type": "stream",
     "text": [
      "The professors whose research area includes Computer Vision are:\n",
      "\n",
      "1. Dr. Mukesh A. Zaveri\n",
      "2. Dr. Ritu Tiwari\n",
      "3. Dr. Anugrah Jain\n",
      "\n",
      "These professors specialize in Computer Vision along with other related fields.\n"
     ]
    }
   ],
   "source": [
    "from langchain.vectorstores import FAISS\n",
    "from langchain_openai import OpenAIEmbeddings, ChatOpenAI\n",
    "from langchain.prompts import ChatPromptTemplate\n",
    "from langchain_core.output_parsers import StrOutputParser\n",
    "from dotenv import load_dotenv\n",
    "import re\n",
    "\n",
    "# Load environment variables\n",
    "load_dotenv()\n",
    "\n",
    "# ✅ Initialize the embedding model\n",
    "embedding = OpenAIEmbeddings(model=\"text-embedding-3-small\")\n",
    "\n",
    "# ✅ Load the FAISS index\n",
    "vectordb = FAISS.load_local(\"embeddings_db\", embeddings=embedding, allow_dangerous_deserialization=True)\n",
    "\n",
    "# ✅ Create a retriever\n",
    "retriever = vectordb.as_retriever(search_type=\"similarity\", search_kwargs={\"k\": 15})\n",
    "\n",
    "# ✅ Initialize LLM\n",
    "llm = ChatOpenAI(model=\"gpt-3.5-turbo\", temperature=0.1)\n",
    "\n",
    "# ✅ Get user question\n",
    "question = \"Can you list down the names of every professors who's research area is in Computer Vision?\"\n",
    "\n",
    "# ✅ Retrieve context documents\n",
    "docs = retriever.invoke(question)\n",
    "context = \"\\n\\n\".join([doc.page_content for doc in docs])\n",
    "\n",
    "# ✅ Create contextual prompt\n",
    "prompt = ChatPromptTemplate.from_messages([\n",
    "    (\"system\",\n",
    "     \"You are a helpful chatbot assistant with expertise in extracting and answering questions from academic documents.\"\n",
    "     \"Use the provided context to answer the user's query.\"\n",
    "     \"If the answer is not found, respond with 'I don't know.' And you may suggest the sources where user can find the information, Do not hallucinate.\"),\n",
    "    (\"human\", \"Context:\\n{context}\\n\\nQuestion: {question}\")\n",
    "])\n",
    "\n",
    "# ✅ Output parser\n",
    "parser = StrOutputParser()\n",
    "\n",
    "# ✅ Final chain\n",
    "chain = prompt | llm | parser\n",
    "\n",
    "# ✅ Invoke chain\n",
    "result = chain.invoke({\n",
    "    \"context\": context,\n",
    "    \"question\": question\n",
    "})\n",
    "\n",
    "# Print the result\n",
    "print(result)"
   ]
  },
  {
   "cell_type": "code",
   "execution_count": 1,
   "id": "e4372cf8",
   "metadata": {},
   "outputs": [
    {
     "name": "stderr",
     "output_type": "stream",
     "text": [
      "C:\\Users\\Ayush\\AppData\\Local\\Temp\\ipykernel_22188\\1049074334.py:25: LangChainDeprecationWarning: Please see the migration guide at: https://python.langchain.com/docs/versions/migrating_memory/\n",
      "  memory = ConversationBufferMemory(return_messages=True, memory_key=\"chat_history\")\n"
     ]
    },
    {
     "name": "stdout",
     "output_type": "stream",
     "text": [
      "🔁 Chatbot ready! Type 'exit' to stop.\n",
      "\n",
      "Bot: I'm here to help! Please provide the context and question so I can assist you effectively.\n",
      "\n",
      "Bot: I'm here to help! Please provide the context and question so I can assist you effectively.\n",
      "\n",
      "👋 Goodbye!\n"
     ]
    }
   ],
   "source": [
    "from langchain_community.vectorstores import FAISS\n",
    "from langchain_openai import OpenAIEmbeddings, ChatOpenAI\n",
    "from langchain.prompts import ChatPromptTemplate, MessagesPlaceholder\n",
    "from langchain_core.output_parsers import StrOutputParser\n",
    "from langchain_core.messages import HumanMessage, SystemMessage\n",
    "from langchain.memory import ConversationBufferMemory\n",
    "from langchain.chains import ConversationalRetrievalChain\n",
    "from dotenv import load_dotenv\n",
    "\n",
    "load_dotenv()\n",
    "\n",
    "# Initialize embedding model\n",
    "embedding = OpenAIEmbeddings(model=\"text-embedding-3-small\")\n",
    "\n",
    "# Load FAISS vector store\n",
    "vectordb = FAISS.load_local(\"embeddings_db\", embeddings=embedding, allow_dangerous_deserialization=True)\n",
    "\n",
    "# Create retriever\n",
    "retriever = vectordb.as_retriever(search_type=\"similarity\", search_kwargs={\"k\": 25})\n",
    "\n",
    "# Chat LLM\n",
    "llm = ChatOpenAI(model=\"gpt-3.5-turbo\", temperature=0.1)\n",
    "\n",
    "# Memory for conversation\n",
    "memory = ConversationBufferMemory(return_messages=True, memory_key=\"chat_history\")\n",
    "\n",
    "# Prompt template with memory placeholder\n",
    "prompt = ChatPromptTemplate.from_messages([\n",
    "    SystemMessage(\n",
    "        content=\"You are a helpful chatbot assistant with expertise in extracting and answering questions from academic documents. \"\n",
    "        \"Use the provided context to answer the user's query. \"\n",
    "        \"If the answer is not found, respond with 'I don't know.' Do not hallucinate.\"\n",
    "    ),\n",
    "    MessagesPlaceholder(variable_name=\"chat_history\"),\n",
    "    HumanMessage(content=\"Context:\\n{context}\\n\\nQuestion: {question}\")\n",
    "])\n",
    "\n",
    "# Chain\n",
    "parser = StrOutputParser()\n",
    "chain = prompt | llm | parser\n",
    "\n",
    "# REPL loop with memory\n",
    "print(\"🔁 Chatbot ready! Type 'exit' to stop.\\n\")\n",
    "\n",
    "while True:\n",
    "    question = input(\"You: \")\n",
    "    if question.lower() in [\"exit\", \"quit\"]:\n",
    "        print(\"👋 Goodbye!\")\n",
    "        break\n",
    "\n",
    "    docs = retriever.invoke(question)\n",
    "    context = \"\\n\\n\".join([doc.page_content for doc in docs])\n",
    "\n",
    "    result = chain.invoke({\n",
    "        \"context\": context,\n",
    "        \"question\": question,\n",
    "        \"chat_history\": memory.chat_memory.messages  # Include chat history in the prompt\n",
    "    })\n",
    "\n",
    "    # Update memory\n",
    "    memory.chat_memory.add_user_message(question)\n",
    "    memory.chat_memory.add_ai_message(result)\n",
    "\n",
    "    print(f\"Bot: {result}\\n\")\n"
   ]
  },
  {
   "cell_type": "code",
   "execution_count": null,
   "id": "8b7157b8",
   "metadata": {},
   "outputs": [],
   "source": []
  }
 ],
 "metadata": {
  "kernelspec": {
   "display_name": "svnit",
   "language": "python",
   "name": "python3"
  },
  "language_info": {
   "codemirror_mode": {
    "name": "ipython",
    "version": 3
   },
   "file_extension": ".py",
   "mimetype": "text/x-python",
   "name": "python",
   "nbconvert_exporter": "python",
   "pygments_lexer": "ipython3",
   "version": "3.12.2"
  }
 },
 "nbformat": 4,
 "nbformat_minor": 5
}
